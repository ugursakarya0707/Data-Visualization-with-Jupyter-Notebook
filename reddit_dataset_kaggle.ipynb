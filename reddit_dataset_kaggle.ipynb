{
 "cells": [
  {
   "cell_type": "code",
   "execution_count": 1,
   "metadata": {},
   "outputs": [
    {
     "name": "stderr",
     "output_type": "stream",
     "text": [
      "C:\\Anaconda3\\lib\\site-packages\\IPython\\core\\interactiveshell.py:3058: DtypeWarning: Columns (5,7) have mixed types. Specify dtype option on import or set low_memory=False.\n",
      "  interactivity=interactivity, compiler=compiler, result=result)\n"
     ]
    }
   ],
   "source": [
    "import pandas as pd\n",
    "import seaborn as sns\n",
    "import numpy as np\n",
    "Original_Data = pd.read_csv(r\"C:\\Users\\uguur\\OneDrive\\Masaüstü\\r_dataisbeautiful_posts.csv\")\n",
    "df=Original_Data.copy()"
   ]
  },
  {
   "cell_type": "code",
   "execution_count": 2,
   "metadata": {},
   "outputs": [
    {
     "name": "stdout",
     "output_type": "stream",
     "text": [
      "<class 'pandas.core.frame.DataFrame'>\n",
      "RangeIndex: 170674 entries, 0 to 170673\n",
      "Data columns (total 12 columns):\n",
      "id                       170674 non-null object\n",
      "title                    170673 non-null object\n",
      "score                    170674 non-null int64\n",
      "author                   170674 non-null object\n",
      "author_flair_text        21425 non-null object\n",
      "removed_by               5363 non-null object\n",
      "total_awards_received    30668 non-null float64\n",
      "awarders                 19993 non-null object\n",
      "created_utc              170674 non-null int64\n",
      "full_link                170674 non-null object\n",
      "num_comments             170674 non-null int64\n",
      "over_18                  170674 non-null bool\n",
      "dtypes: bool(1), float64(1), int64(3), object(7)\n",
      "memory usage: 14.5+ MB\n"
     ]
    }
   ],
   "source": [
    "df.info()"
   ]
  },
  {
   "cell_type": "code",
   "execution_count": 3,
   "metadata": {},
   "outputs": [
    {
     "data": {
      "text/html": [
       "<div>\n",
       "<style scoped>\n",
       "    .dataframe tbody tr th:only-of-type {\n",
       "        vertical-align: middle;\n",
       "    }\n",
       "\n",
       "    .dataframe tbody tr th {\n",
       "        vertical-align: top;\n",
       "    }\n",
       "\n",
       "    .dataframe thead th {\n",
       "        text-align: right;\n",
       "    }\n",
       "</style>\n",
       "<table border=\"1\" class=\"dataframe\">\n",
       "  <thead>\n",
       "    <tr style=\"text-align: right;\">\n",
       "      <th></th>\n",
       "      <th>id</th>\n",
       "      <th>title</th>\n",
       "      <th>score</th>\n",
       "      <th>author</th>\n",
       "      <th>author_flair_text</th>\n",
       "      <th>removed_by</th>\n",
       "      <th>total_awards_received</th>\n",
       "      <th>awarders</th>\n",
       "      <th>created_utc</th>\n",
       "      <th>full_link</th>\n",
       "      <th>num_comments</th>\n",
       "      <th>over_18</th>\n",
       "    </tr>\n",
       "  </thead>\n",
       "  <tbody>\n",
       "    <tr>\n",
       "      <td>0</td>\n",
       "      <td>fsxw7v</td>\n",
       "      <td>Corona-Virus World Wide Effects | Stats of Eff...</td>\n",
       "      <td>1</td>\n",
       "      <td>gsinfo</td>\n",
       "      <td>NaN</td>\n",
       "      <td>NaN</td>\n",
       "      <td>0.0</td>\n",
       "      <td>[]</td>\n",
       "      <td>1585739935</td>\n",
       "      <td>https://www.reddit.com/r/dataisbeautiful/comme...</td>\n",
       "      <td>0</td>\n",
       "      <td>False</td>\n",
       "    </tr>\n",
       "    <tr>\n",
       "      <td>1</td>\n",
       "      <td>fsxv5a</td>\n",
       "      <td>Us state populations in 1850 (Data from https:...</td>\n",
       "      <td>1</td>\n",
       "      <td>theannoying_one</td>\n",
       "      <td>NaN</td>\n",
       "      <td>moderator</td>\n",
       "      <td>0.0</td>\n",
       "      <td>[]</td>\n",
       "      <td>1585739782</td>\n",
       "      <td>https://www.reddit.com/r/dataisbeautiful/comme...</td>\n",
       "      <td>2</td>\n",
       "      <td>False</td>\n",
       "    </tr>\n",
       "    <tr>\n",
       "      <td>2</td>\n",
       "      <td>fsxpam</td>\n",
       "      <td>Corona-Virus World Wide Effects | Stats of Eff...</td>\n",
       "      <td>1</td>\n",
       "      <td>gsinfo</td>\n",
       "      <td>NaN</td>\n",
       "      <td>moderator</td>\n",
       "      <td>0.0</td>\n",
       "      <td>[]</td>\n",
       "      <td>1585739013</td>\n",
       "      <td>https://www.reddit.com/r/dataisbeautiful/comme...</td>\n",
       "      <td>0</td>\n",
       "      <td>False</td>\n",
       "    </tr>\n",
       "    <tr>\n",
       "      <td>3</td>\n",
       "      <td>fsxlc5</td>\n",
       "      <td>Can't post these kinds of maps on r/mapporn, s...</td>\n",
       "      <td>1</td>\n",
       "      <td>theannoying_one</td>\n",
       "      <td>NaN</td>\n",
       "      <td>moderator</td>\n",
       "      <td>0.0</td>\n",
       "      <td>[]</td>\n",
       "      <td>1585738480</td>\n",
       "      <td>https://www.reddit.com/r/dataisbeautiful/comme...</td>\n",
       "      <td>1</td>\n",
       "      <td>False</td>\n",
       "    </tr>\n",
       "    <tr>\n",
       "      <td>4</td>\n",
       "      <td>fsxhuv</td>\n",
       "      <td>Data on air pollution in the 12th century shed...</td>\n",
       "      <td>1</td>\n",
       "      <td>dnouvel</td>\n",
       "      <td>NaN</td>\n",
       "      <td>NaN</td>\n",
       "      <td>0.0</td>\n",
       "      <td>[]</td>\n",
       "      <td>1585738001</td>\n",
       "      <td>https://www.reddit.com/r/dataisbeautiful/comme...</td>\n",
       "      <td>2</td>\n",
       "      <td>False</td>\n",
       "    </tr>\n",
       "  </tbody>\n",
       "</table>\n",
       "</div>"
      ],
      "text/plain": [
       "       id                                              title  score  \\\n",
       "0  fsxw7v  Corona-Virus World Wide Effects | Stats of Eff...      1   \n",
       "1  fsxv5a  Us state populations in 1850 (Data from https:...      1   \n",
       "2  fsxpam  Corona-Virus World Wide Effects | Stats of Eff...      1   \n",
       "3  fsxlc5  Can't post these kinds of maps on r/mapporn, s...      1   \n",
       "4  fsxhuv  Data on air pollution in the 12th century shed...      1   \n",
       "\n",
       "            author author_flair_text removed_by  total_awards_received  \\\n",
       "0           gsinfo               NaN        NaN                    0.0   \n",
       "1  theannoying_one               NaN  moderator                    0.0   \n",
       "2           gsinfo               NaN  moderator                    0.0   \n",
       "3  theannoying_one               NaN  moderator                    0.0   \n",
       "4          dnouvel               NaN        NaN                    0.0   \n",
       "\n",
       "  awarders  created_utc                                          full_link  \\\n",
       "0       []   1585739935  https://www.reddit.com/r/dataisbeautiful/comme...   \n",
       "1       []   1585739782  https://www.reddit.com/r/dataisbeautiful/comme...   \n",
       "2       []   1585739013  https://www.reddit.com/r/dataisbeautiful/comme...   \n",
       "3       []   1585738480  https://www.reddit.com/r/dataisbeautiful/comme...   \n",
       "4       []   1585738001  https://www.reddit.com/r/dataisbeautiful/comme...   \n",
       "\n",
       "   num_comments  over_18  \n",
       "0             0    False  \n",
       "1             2    False  \n",
       "2             0    False  \n",
       "3             1    False  \n",
       "4             2    False  "
      ]
     },
     "execution_count": 3,
     "metadata": {},
     "output_type": "execute_result"
    }
   ],
   "source": [
    "df.head()"
   ]
  },
  {
   "cell_type": "code",
   "execution_count": 5,
   "metadata": {},
   "outputs": [],
   "source": [
    "df.drop([\"author_flair_text\",\"removed_by\",\"awarders\",],axis=1,inplace=True)"
   ]
  },
  {
   "cell_type": "code",
   "execution_count": 6,
   "metadata": {},
   "outputs": [
    {
     "data": {
      "text/html": [
       "<div>\n",
       "<style scoped>\n",
       "    .dataframe tbody tr th:only-of-type {\n",
       "        vertical-align: middle;\n",
       "    }\n",
       "\n",
       "    .dataframe tbody tr th {\n",
       "        vertical-align: top;\n",
       "    }\n",
       "\n",
       "    .dataframe thead th {\n",
       "        text-align: right;\n",
       "    }\n",
       "</style>\n",
       "<table border=\"1\" class=\"dataframe\">\n",
       "  <thead>\n",
       "    <tr style=\"text-align: right;\">\n",
       "      <th></th>\n",
       "      <th>id</th>\n",
       "      <th>title</th>\n",
       "      <th>score</th>\n",
       "      <th>author</th>\n",
       "      <th>total_awards_received</th>\n",
       "      <th>created_utc</th>\n",
       "      <th>full_link</th>\n",
       "      <th>num_comments</th>\n",
       "      <th>over_18</th>\n",
       "    </tr>\n",
       "  </thead>\n",
       "  <tbody>\n",
       "    <tr>\n",
       "      <td>0</td>\n",
       "      <td>fsxw7v</td>\n",
       "      <td>Corona-Virus World Wide Effects | Stats of Eff...</td>\n",
       "      <td>1</td>\n",
       "      <td>gsinfo</td>\n",
       "      <td>0.0</td>\n",
       "      <td>1585739935</td>\n",
       "      <td>https://www.reddit.com/r/dataisbeautiful/comme...</td>\n",
       "      <td>0</td>\n",
       "      <td>False</td>\n",
       "    </tr>\n",
       "    <tr>\n",
       "      <td>1</td>\n",
       "      <td>fsxv5a</td>\n",
       "      <td>Us state populations in 1850 (Data from https:...</td>\n",
       "      <td>1</td>\n",
       "      <td>theannoying_one</td>\n",
       "      <td>0.0</td>\n",
       "      <td>1585739782</td>\n",
       "      <td>https://www.reddit.com/r/dataisbeautiful/comme...</td>\n",
       "      <td>2</td>\n",
       "      <td>False</td>\n",
       "    </tr>\n",
       "    <tr>\n",
       "      <td>2</td>\n",
       "      <td>fsxpam</td>\n",
       "      <td>Corona-Virus World Wide Effects | Stats of Eff...</td>\n",
       "      <td>1</td>\n",
       "      <td>gsinfo</td>\n",
       "      <td>0.0</td>\n",
       "      <td>1585739013</td>\n",
       "      <td>https://www.reddit.com/r/dataisbeautiful/comme...</td>\n",
       "      <td>0</td>\n",
       "      <td>False</td>\n",
       "    </tr>\n",
       "    <tr>\n",
       "      <td>3</td>\n",
       "      <td>fsxlc5</td>\n",
       "      <td>Can't post these kinds of maps on r/mapporn, s...</td>\n",
       "      <td>1</td>\n",
       "      <td>theannoying_one</td>\n",
       "      <td>0.0</td>\n",
       "      <td>1585738480</td>\n",
       "      <td>https://www.reddit.com/r/dataisbeautiful/comme...</td>\n",
       "      <td>1</td>\n",
       "      <td>False</td>\n",
       "    </tr>\n",
       "    <tr>\n",
       "      <td>4</td>\n",
       "      <td>fsxhuv</td>\n",
       "      <td>Data on air pollution in the 12th century shed...</td>\n",
       "      <td>1</td>\n",
       "      <td>dnouvel</td>\n",
       "      <td>0.0</td>\n",
       "      <td>1585738001</td>\n",
       "      <td>https://www.reddit.com/r/dataisbeautiful/comme...</td>\n",
       "      <td>2</td>\n",
       "      <td>False</td>\n",
       "    </tr>\n",
       "  </tbody>\n",
       "</table>\n",
       "</div>"
      ],
      "text/plain": [
       "       id                                              title  score  \\\n",
       "0  fsxw7v  Corona-Virus World Wide Effects | Stats of Eff...      1   \n",
       "1  fsxv5a  Us state populations in 1850 (Data from https:...      1   \n",
       "2  fsxpam  Corona-Virus World Wide Effects | Stats of Eff...      1   \n",
       "3  fsxlc5  Can't post these kinds of maps on r/mapporn, s...      1   \n",
       "4  fsxhuv  Data on air pollution in the 12th century shed...      1   \n",
       "\n",
       "            author  total_awards_received  created_utc  \\\n",
       "0           gsinfo                    0.0   1585739935   \n",
       "1  theannoying_one                    0.0   1585739782   \n",
       "2           gsinfo                    0.0   1585739013   \n",
       "3  theannoying_one                    0.0   1585738480   \n",
       "4          dnouvel                    0.0   1585738001   \n",
       "\n",
       "                                           full_link  num_comments  over_18  \n",
       "0  https://www.reddit.com/r/dataisbeautiful/comme...             0    False  \n",
       "1  https://www.reddit.com/r/dataisbeautiful/comme...             2    False  \n",
       "2  https://www.reddit.com/r/dataisbeautiful/comme...             0    False  \n",
       "3  https://www.reddit.com/r/dataisbeautiful/comme...             1    False  \n",
       "4  https://www.reddit.com/r/dataisbeautiful/comme...             2    False  "
      ]
     },
     "execution_count": 6,
     "metadata": {},
     "output_type": "execute_result"
    }
   ],
   "source": [
    "df.head()"
   ]
  },
  {
   "cell_type": "code",
   "execution_count": 16,
   "metadata": {},
   "outputs": [
    {
     "data": {
      "text/plain": [
       "0"
      ]
     },
     "execution_count": 16,
     "metadata": {},
     "output_type": "execute_result"
    }
   ],
   "source": [
    "df[\"id\"].isna().sum()"
   ]
  },
  {
   "cell_type": "code",
   "execution_count": 17,
   "metadata": {},
   "outputs": [
    {
     "data": {
      "text/plain": [
       "array([   1,    5,    0, ...,  760,  567, 1214], dtype=int64)"
      ]
     },
     "execution_count": 17,
     "metadata": {},
     "output_type": "execute_result"
    }
   ],
   "source": [
    "df[\"score\"].unique()"
   ]
  },
  {
   "cell_type": "code",
   "execution_count": 22,
   "metadata": {},
   "outputs": [
    {
     "data": {
      "text/plain": [
       "<matplotlib.axes._subplots.AxesSubplot at 0x1e3d5333808>"
      ]
     },
     "execution_count": 22,
     "metadata": {},
     "output_type": "execute_result"
    },
    {
     "data": {
      "image/png": "[encoded data removed]",
      "text/plain": [
       "<Figure size 432x288 with 1 Axes>"
      ]
     },
     "metadata": {
      "needs_background": "light"
     },
     "output_type": "display_data"
    }
   ],
   "source": [
    "sns.kdeplot(df.score, shade=True, color=\"r\")\n"
   ]
  },
  {
   "cell_type": "code",
   "execution_count": 36,
   "metadata": {},
   "outputs": [
    {
     "data": {
      "image/png": "[encoded data removed]",
      "text/plain": [
       "<Figure size 480x360 with 1 Axes>"
      ]
     },
     "metadata": {
      "needs_background": "light"
     },
     "output_type": "display_data"
    }
   ],
   "source": [
    "at=sns.catplot(y=\"num_comments\",x=\"score\",hue=\"total_awards_received\",color=\"b\",data=df)"
   ]
  },
  {
   "cell_type": "code",
   "execution_count": 35,
   "metadata": {},
   "outputs": [
    {
     "data": {
      "text/plain": [
       "<seaborn.axisgrid.FacetGrid at 0x1e3dc980448>"
      ]
     },
     "execution_count": 35,
     "metadata": {},
     "output_type": "execute_result"
    },
    {
     "data": {
      "image/png": "[encoded data removed]",
      "text/plain": [
       "<Figure size 360x360 with 1 Axes>"
      ]
     },
     "metadata": {
      "needs_background": "light"
     },
     "output_type": "display_data"
    }
   ],
   "source": [
    "sns.catplot(data=df,y=\"num_comments\",x=\"score\")"
   ]
  }
 ],
 "metadata": {
  "kernelspec": {
   "display_name": "Python 3",
   "language": "python",
   "name": "python3"
  },
  "language_info": {
   "codemirror_mode": {
    "name": "ipython",
    "version": 3
   },
   "file_extension": ".py",
   "mimetype": "text/x-python",
   "name": "python",
   "nbconvert_exporter": "python",
   "pygments_lexer": "ipython3",
   "version": "3.7.4"
  }
 },
 "nbformat": 4,
 "nbformat_minor": 2
}
